{
 "cells": [
  {
   "cell_type": "code",
   "execution_count": 1,
   "metadata": {},
   "outputs": [],
   "source": [
    "import pandas as pd\n",
    "import numpy as np\n",
    "import matplotlib.pyplot as plt"
   ]
  },
  {
   "cell_type": "code",
   "execution_count": 2,
   "metadata": {},
   "outputs": [
    {
     "data": {
      "text/html": [
       "<div>\n",
       "<style scoped>\n",
       "    .dataframe tbody tr th:only-of-type {\n",
       "        vertical-align: middle;\n",
       "    }\n",
       "\n",
       "    .dataframe tbody tr th {\n",
       "        vertical-align: top;\n",
       "    }\n",
       "\n",
       "    .dataframe thead th {\n",
       "        text-align: right;\n",
       "    }\n",
       "</style>\n",
       "<table border=\"1\" class=\"dataframe\">\n",
       "  <thead>\n",
       "    <tr style=\"text-align: right;\">\n",
       "      <th></th>\n",
       "      <th>Slope</th>\n",
       "      <th>Forest Density</th>\n",
       "      <th>Snow Density</th>\n",
       "      <th>Air Temperature</th>\n",
       "      <th>Wind</th>\n",
       "      <th>Prediction</th>\n",
       "    </tr>\n",
       "  </thead>\n",
       "  <tbody>\n",
       "    <tr>\n",
       "      <th>0</th>\n",
       "      <td>59</td>\n",
       "      <td>H</td>\n",
       "      <td>52</td>\n",
       "      <td>-17</td>\n",
       "      <td>19</td>\n",
       "      <td>2</td>\n",
       "    </tr>\n",
       "    <tr>\n",
       "      <th>1</th>\n",
       "      <td>24</td>\n",
       "      <td>L</td>\n",
       "      <td>23</td>\n",
       "      <td>-8</td>\n",
       "      <td>19</td>\n",
       "      <td>0</td>\n",
       "    </tr>\n",
       "    <tr>\n",
       "      <th>2</th>\n",
       "      <td>15</td>\n",
       "      <td>H</td>\n",
       "      <td>30</td>\n",
       "      <td>7</td>\n",
       "      <td>19</td>\n",
       "      <td>0</td>\n",
       "    </tr>\n",
       "    <tr>\n",
       "      <th>3</th>\n",
       "      <td>27</td>\n",
       "      <td>L</td>\n",
       "      <td>61</td>\n",
       "      <td>-13</td>\n",
       "      <td>25</td>\n",
       "      <td>1</td>\n",
       "    </tr>\n",
       "    <tr>\n",
       "      <th>4</th>\n",
       "      <td>34</td>\n",
       "      <td>H</td>\n",
       "      <td>4</td>\n",
       "      <td>-20</td>\n",
       "      <td>7</td>\n",
       "      <td>0</td>\n",
       "    </tr>\n",
       "    <tr>\n",
       "      <th>...</th>\n",
       "      <td>...</td>\n",
       "      <td>...</td>\n",
       "      <td>...</td>\n",
       "      <td>...</td>\n",
       "      <td>...</td>\n",
       "      <td>...</td>\n",
       "    </tr>\n",
       "    <tr>\n",
       "      <th>199</th>\n",
       "      <td>34</td>\n",
       "      <td>M</td>\n",
       "      <td>44</td>\n",
       "      <td>6</td>\n",
       "      <td>6</td>\n",
       "      <td>0</td>\n",
       "    </tr>\n",
       "    <tr>\n",
       "      <th>200</th>\n",
       "      <td>34</td>\n",
       "      <td>L</td>\n",
       "      <td>73</td>\n",
       "      <td>-34</td>\n",
       "      <td>13</td>\n",
       "      <td>2</td>\n",
       "    </tr>\n",
       "    <tr>\n",
       "      <th>201</th>\n",
       "      <td>34</td>\n",
       "      <td>M</td>\n",
       "      <td>33</td>\n",
       "      <td>13</td>\n",
       "      <td>35</td>\n",
       "      <td>1</td>\n",
       "    </tr>\n",
       "    <tr>\n",
       "      <th>202</th>\n",
       "      <td>34</td>\n",
       "      <td>L</td>\n",
       "      <td>51</td>\n",
       "      <td>-4</td>\n",
       "      <td>35</td>\n",
       "      <td>1</td>\n",
       "    </tr>\n",
       "    <tr>\n",
       "      <th>203</th>\n",
       "      <td>34</td>\n",
       "      <td>M</td>\n",
       "      <td>59</td>\n",
       "      <td>-29</td>\n",
       "      <td>8</td>\n",
       "      <td>2</td>\n",
       "    </tr>\n",
       "  </tbody>\n",
       "</table>\n",
       "<p>204 rows × 6 columns</p>\n",
       "</div>"
      ],
      "text/plain": [
       "     Slope Forest Density  Snow Density  Air Temperature  Wind  Prediction\n",
       "0       59              H            52              -17    19           2\n",
       "1       24              L            23               -8    19           0\n",
       "2       15              H            30                7    19           0\n",
       "3       27              L            61              -13    25           1\n",
       "4       34              H             4              -20     7           0\n",
       "..     ...            ...           ...              ...   ...         ...\n",
       "199     34              M            44                6     6           0\n",
       "200     34              L            73              -34    13           2\n",
       "201     34              M            33               13    35           1\n",
       "202     34              L            51               -4    35           1\n",
       "203     34              M            59              -29     8           2\n",
       "\n",
       "[204 rows x 6 columns]"
      ]
     },
     "execution_count": 2,
     "metadata": {},
     "output_type": "execute_result"
    }
   ],
   "source": [
    "dataset = pd.read_csv('Avalanche.csv')\n",
    "dataset"
   ]
  },
  {
   "cell_type": "code",
   "execution_count": 3,
   "metadata": {
    "scrolled": true
   },
   "outputs": [
    {
     "data": {
      "text/html": [
       "<div>\n",
       "<style scoped>\n",
       "    .dataframe tbody tr th:only-of-type {\n",
       "        vertical-align: middle;\n",
       "    }\n",
       "\n",
       "    .dataframe tbody tr th {\n",
       "        vertical-align: top;\n",
       "    }\n",
       "\n",
       "    .dataframe thead th {\n",
       "        text-align: right;\n",
       "    }\n",
       "</style>\n",
       "<table border=\"1\" class=\"dataframe\">\n",
       "  <thead>\n",
       "    <tr style=\"text-align: right;\">\n",
       "      <th></th>\n",
       "      <th>Slope</th>\n",
       "      <th>Forest Density</th>\n",
       "      <th>Snow Density</th>\n",
       "      <th>Air Temperature</th>\n",
       "      <th>Wind</th>\n",
       "      <th>Prediction</th>\n",
       "    </tr>\n",
       "  </thead>\n",
       "  <tbody>\n",
       "    <tr>\n",
       "      <th>0</th>\n",
       "      <td>59</td>\n",
       "      <td>0</td>\n",
       "      <td>52</td>\n",
       "      <td>-17</td>\n",
       "      <td>19</td>\n",
       "      <td>2</td>\n",
       "    </tr>\n",
       "    <tr>\n",
       "      <th>1</th>\n",
       "      <td>24</td>\n",
       "      <td>1</td>\n",
       "      <td>23</td>\n",
       "      <td>-8</td>\n",
       "      <td>19</td>\n",
       "      <td>0</td>\n",
       "    </tr>\n",
       "    <tr>\n",
       "      <th>2</th>\n",
       "      <td>15</td>\n",
       "      <td>0</td>\n",
       "      <td>30</td>\n",
       "      <td>7</td>\n",
       "      <td>19</td>\n",
       "      <td>0</td>\n",
       "    </tr>\n",
       "    <tr>\n",
       "      <th>3</th>\n",
       "      <td>27</td>\n",
       "      <td>1</td>\n",
       "      <td>61</td>\n",
       "      <td>-13</td>\n",
       "      <td>25</td>\n",
       "      <td>1</td>\n",
       "    </tr>\n",
       "    <tr>\n",
       "      <th>4</th>\n",
       "      <td>34</td>\n",
       "      <td>0</td>\n",
       "      <td>4</td>\n",
       "      <td>-20</td>\n",
       "      <td>7</td>\n",
       "      <td>0</td>\n",
       "    </tr>\n",
       "    <tr>\n",
       "      <th>...</th>\n",
       "      <td>...</td>\n",
       "      <td>...</td>\n",
       "      <td>...</td>\n",
       "      <td>...</td>\n",
       "      <td>...</td>\n",
       "      <td>...</td>\n",
       "    </tr>\n",
       "    <tr>\n",
       "      <th>199</th>\n",
       "      <td>34</td>\n",
       "      <td>2</td>\n",
       "      <td>44</td>\n",
       "      <td>6</td>\n",
       "      <td>6</td>\n",
       "      <td>0</td>\n",
       "    </tr>\n",
       "    <tr>\n",
       "      <th>200</th>\n",
       "      <td>34</td>\n",
       "      <td>1</td>\n",
       "      <td>73</td>\n",
       "      <td>-34</td>\n",
       "      <td>13</td>\n",
       "      <td>2</td>\n",
       "    </tr>\n",
       "    <tr>\n",
       "      <th>201</th>\n",
       "      <td>34</td>\n",
       "      <td>2</td>\n",
       "      <td>33</td>\n",
       "      <td>13</td>\n",
       "      <td>35</td>\n",
       "      <td>1</td>\n",
       "    </tr>\n",
       "    <tr>\n",
       "      <th>202</th>\n",
       "      <td>34</td>\n",
       "      <td>1</td>\n",
       "      <td>51</td>\n",
       "      <td>-4</td>\n",
       "      <td>35</td>\n",
       "      <td>1</td>\n",
       "    </tr>\n",
       "    <tr>\n",
       "      <th>203</th>\n",
       "      <td>34</td>\n",
       "      <td>2</td>\n",
       "      <td>59</td>\n",
       "      <td>-29</td>\n",
       "      <td>8</td>\n",
       "      <td>2</td>\n",
       "    </tr>\n",
       "  </tbody>\n",
       "</table>\n",
       "<p>204 rows × 6 columns</p>\n",
       "</div>"
      ],
      "text/plain": [
       "     Slope  Forest Density  Snow Density  Air Temperature  Wind  Prediction\n",
       "0       59               0            52              -17    19           2\n",
       "1       24               1            23               -8    19           0\n",
       "2       15               0            30                7    19           0\n",
       "3       27               1            61              -13    25           1\n",
       "4       34               0             4              -20     7           0\n",
       "..     ...             ...           ...              ...   ...         ...\n",
       "199     34               2            44                6     6           0\n",
       "200     34               1            73              -34    13           2\n",
       "201     34               2            33               13    35           1\n",
       "202     34               1            51               -4    35           1\n",
       "203     34               2            59              -29     8           2\n",
       "\n",
       "[204 rows x 6 columns]"
      ]
     },
     "execution_count": 3,
     "metadata": {},
     "output_type": "execute_result"
    }
   ],
   "source": [
    "from sklearn.preprocessing import LabelEncoder\n",
    "label_encoder = LabelEncoder()\n",
    "dataset['Forest Density'] = label_encoder.fit_transform(dataset[\"Forest Density\"])\n",
    "dataset"
   ]
  },
  {
   "cell_type": "code",
   "execution_count": 4,
   "metadata": {
    "scrolled": true
   },
   "outputs": [],
   "source": [
    "x = dataset.iloc[:,0:5].values\n",
    "y = dataset.iloc[:,-1].values"
   ]
  },
  {
   "cell_type": "code",
   "execution_count": 5,
   "metadata": {},
   "outputs": [
    {
     "data": {
      "text/plain": [
       "array([[ 59,   0,  52, -17,  19],\n",
       "       [ 24,   1,  23,  -8,  19],\n",
       "       [ 15,   0,  30,   7,  19],\n",
       "       ...,\n",
       "       [ 34,   2,  33,  13,  35],\n",
       "       [ 34,   1,  51,  -4,  35],\n",
       "       [ 34,   2,  59, -29,   8]], dtype=int64)"
      ]
     },
     "execution_count": 5,
     "metadata": {},
     "output_type": "execute_result"
    }
   ],
   "source": [
    "x"
   ]
  },
  {
   "cell_type": "code",
   "execution_count": 6,
   "metadata": {},
   "outputs": [
    {
     "data": {
      "text/plain": [
       "array([2, 0, 0, 1, 0, 1, 2, 1, 0, 2, 1, 1, 2, 2, 2, 2, 2, 1, 1, 0, 1, 1,\n",
       "       0, 0, 2, 1, 1, 2, 2, 1, 1, 2, 1, 2, 0, 2, 1, 2, 2, 2, 1, 2, 1, 2,\n",
       "       1, 0, 1, 2, 0, 1, 2, 1, 0, 1, 1, 0, 0, 0, 2, 2, 1, 0, 0, 1, 0, 1,\n",
       "       1, 0, 2, 1, 2, 0, 1, 1, 2, 0, 2, 0, 0, 1, 1, 2, 1, 2, 1, 1, 1, 0,\n",
       "       2, 0, 1, 1, 1, 2, 2, 1, 2, 1, 2, 2, 0, 0, 1, 0, 1, 2, 1, 0, 2, 1,\n",
       "       1, 2, 2, 2, 2, 2, 1, 1, 0, 1, 1, 2, 0, 0, 1, 0, 1, 2, 1, 0, 2, 1,\n",
       "       1, 2, 2, 2, 2, 2, 1, 1, 0, 1, 1, 1, 0, 0, 0, 2, 2, 1, 0, 0, 1, 0,\n",
       "       1, 1, 0, 2, 1, 2, 0, 1, 1, 2, 0, 2, 2, 1, 0, 0, 1, 0, 1, 1, 0, 2,\n",
       "       1, 2, 0, 2, 2, 1, 0, 0, 1, 0, 1, 1, 0, 2, 1, 2, 0, 0, 1, 0, 1, 2,\n",
       "       1, 0, 2, 1, 1, 2], dtype=int64)"
      ]
     },
     "execution_count": 6,
     "metadata": {},
     "output_type": "execute_result"
    }
   ],
   "source": [
    "y"
   ]
  },
  {
   "cell_type": "raw",
   "metadata": {},
   "source": [
    "step 4: data visualization"
   ]
  },
  {
   "cell_type": "code",
   "execution_count": 7,
   "metadata": {},
   "outputs": [
    {
     "data": {
      "text/plain": [
       "<matplotlib.axes._subplots.AxesSubplot at 0x117607c748>"
      ]
     },
     "execution_count": 7,
     "metadata": {},
     "output_type": "execute_result"
    },
    {
     "data": {
      "image/png": "[encoded data removed]",
      "text/plain": [
       "<Figure size 432x288 with 1 Axes>"
      ]
     },
     "metadata": {
      "needs_background": "light"
     },
     "output_type": "display_data"
    }
   ],
   "source": [
    "import seaborn as sns\n",
    "sns.boxplot(dataset['Slope'])"
   ]
  },
  {
   "cell_type": "code",
   "execution_count": 8,
   "metadata": {},
   "outputs": [
    {
     "data": {
      "text/plain": [
       "<matplotlib.axes._subplots.AxesSubplot at 0x11767c5a08>"
      ]
     },
     "execution_count": 8,
     "metadata": {},
     "output_type": "execute_result"
    },
    {
     "data": {
      "image/png": "[encoded data removed]",
      "text/plain": [
       "<Figure size 432x288 with 1 Axes>"
      ]
     },
     "metadata": {
      "needs_background": "light"
     },
     "output_type": "display_data"
    }
   ],
   "source": [
    "sns.boxplot(dataset['Forest Density'])"
   ]
  },
  {
   "cell_type": "code",
   "execution_count": 9,
   "metadata": {
    "scrolled": true
   },
   "outputs": [
    {
     "data": {
      "text/plain": [
       "<matplotlib.axes._subplots.AxesSubplot at 0x11767c5488>"
      ]
     },
     "execution_count": 9,
     "metadata": {},
     "output_type": "execute_result"
    },
    {
     "data": {
      "image/png": "[encoded data removed]",
      "text/plain": [
       "<Figure size 432x288 with 1 Axes>"
      ]
     },
     "metadata": {
      "needs_background": "light"
     },
     "output_type": "display_data"
    }
   ],
   "source": [
    "sns.boxplot(dataset['Snow Density'])"
   ]
  },
  {
   "cell_type": "code",
   "execution_count": 10,
   "metadata": {},
   "outputs": [
    {
     "data": {
      "text/plain": [
       "<matplotlib.axes._subplots.AxesSubplot at 0x11768e7488>"
      ]
     },
     "execution_count": 10,
     "metadata": {},
     "output_type": "execute_result"
    },
    {
     "data": {
      "image/png": "[encoded data removed]",
      "text/plain": [
       "<Figure size 432x288 with 1 Axes>"
      ]
     },
     "metadata": {
      "needs_background": "light"
     },
     "output_type": "display_data"
    }
   ],
   "source": [
    "sns.boxplot(dataset['Air Temperature'])"
   ]
  },
  {
   "cell_type": "code",
   "execution_count": 11,
   "metadata": {},
   "outputs": [
    {
     "data": {
      "text/plain": [
       "<matplotlib.axes._subplots.AxesSubplot at 0x1176949488>"
      ]
     },
     "execution_count": 11,
     "metadata": {},
     "output_type": "execute_result"
    },
    {
     "data": {
      "image/png": "[encoded data removed]",
      "text/plain": [
       "<Figure size 432x288 with 1 Axes>"
      ]
     },
     "metadata": {
      "needs_background": "light"
     },
     "output_type": "display_data"
    }
   ],
   "source": [
    "sns.boxplot(dataset['Wind'])"
   ]
  },
  {
   "cell_type": "code",
   "execution_count": 12,
   "metadata": {},
   "outputs": [
    {
     "data": {
      "text/plain": [
       "<matplotlib.axes._subplots.AxesSubplot at 0x11769baec8>"
      ]
     },
     "execution_count": 12,
     "metadata": {},
     "output_type": "execute_result"
    },
    {
     "data": {
      "image/png": "[encoded data removed]",
      "text/plain": [
       "<Figure size 432x288 with 1 Axes>"
      ]
     },
     "metadata": {
      "needs_background": "light"
     },
     "output_type": "display_data"
    }
   ],
   "source": [
    "sns.boxplot(dataset['Prediction'])"
   ]
  },
  {
   "cell_type": "raw",
   "metadata": {},
   "source": [
    "step 4 : Taking care of missing data"
   ]
  },
  {
   "cell_type": "code",
   "execution_count": 13,
   "metadata": {},
   "outputs": [
    {
     "data": {
      "text/plain": [
       "Slope              False\n",
       "Forest Density     False\n",
       "Snow Density       False\n",
       "Air Temperature    False\n",
       "Wind               False\n",
       "Prediction         False\n",
       "dtype: bool"
      ]
     },
     "execution_count": 13,
     "metadata": {},
     "output_type": "execute_result"
    }
   ],
   "source": [
    "dataset.isnull().any()"
   ]
  },
  {
   "cell_type": "raw",
   "metadata": {},
   "source": [
    "step 5 : One Hot Encoding"
   ]
  },
  {
   "cell_type": "raw",
   "metadata": {},
   "source": [
    "Step 6 : spliting data into train and test"
   ]
  },
  {
   "cell_type": "code",
   "execution_count": 14,
   "metadata": {},
   "outputs": [],
   "source": [
    "from sklearn.model_selection import train_test_split\n",
    "x_train,x_test,y_train,y_test = train_test_split(x,y,test_size=0.1,random_state=0)"
   ]
  },
  {
   "cell_type": "code",
   "execution_count": 15,
   "metadata": {},
   "outputs": [
    {
     "data": {
      "text/plain": [
       "array([[ 16,   2,  68,  10,  26],\n",
       "       [ 69,   0,  54,  11,  29],\n",
       "       [ 34,   1,  76, -27,  38],\n",
       "       [ 54,   1,  21,   0,  23],\n",
       "       [ 59,   0,  27, -27,   6],\n",
       "       [ 22,   0,  48, -14,  17],\n",
       "       [ 18,   2,  39,  12,   7],\n",
       "       [ 33,   1,  53,  -7,  24],\n",
       "       [ 51,   2,  69,  11,  31],\n",
       "       [ 34,   2,  59, -29,   8],\n",
       "       [ 76,   2,  52,  11,  11],\n",
       "       [ 75,   1,  70, -11,  36],\n",
       "       [ 50,   2,  49, -10,  34],\n",
       "       [ 12,   1,   5, -11,  14],\n",
       "       [ 17,   2,  15,  -2,  36],\n",
       "       [ 22,   1,  13, -22,  39],\n",
       "       [ 19,   1,  66,  12,  37],\n",
       "       [ 34,   0,   4, -20,   7],\n",
       "       [ 51,   0,  41,   4,  10],\n",
       "       [ 34,   0,   4, -20,   7],\n",
       "       [ 36,   0,  43,   2,  37],\n",
       "       [ 20,   0,   5, -32,  37],\n",
       "       [ 21,   2,  70, -27,   8],\n",
       "       [ 34,   1,  73, -34,  13],\n",
       "       [ 22,   1,  13, -22,  39],\n",
       "       [ 34,   1,  51,  -4,  35],\n",
       "       [ 34,   2,  44,   6,   6],\n",
       "       [ 12,   0,  29,  12,  15],\n",
       "       [ 44,   2,  10, -34,  37],\n",
       "       [ 62,   1,  46,  -8,  13],\n",
       "       [ 66,   1,  78,  -7,  22],\n",
       "       [ 34,   2,  73, -32,  27],\n",
       "       [ 20,   0,   5, -32,  37],\n",
       "       [ 75,   1,  70, -11,  36],\n",
       "       [ 34,   1,  73, -34,  13],\n",
       "       [ 60,   2,  58,  15,   9],\n",
       "       [ 53,   1,  12,   9,  16],\n",
       "       [ 29,   2,  11, -25,  38],\n",
       "       [ 24,   1,  42,   8,  24],\n",
       "       [ 16,   1,  61, -24,   7],\n",
       "       [ 34,   1,  73, -34,  13],\n",
       "       [ 24,   1,  23,  -8,  19],\n",
       "       [ 45,   1,  74,  15,  36],\n",
       "       [ 29,   2,  11, -25,  38],\n",
       "       [ 74,   0,  36, -22,  12],\n",
       "       [ 34,   2,  44,   6,   6],\n",
       "       [ 50,   0,  69, -31,  31],\n",
       "       [ 38,   0,   1, -14,  31],\n",
       "       [ 33,   1,  10,   6,  31],\n",
       "       [ 59,   1,   6,  10,  37],\n",
       "       [ 50,   2,   3, -20,  11],\n",
       "       [ 20,   2,  16, -24,  36],\n",
       "       [ 15,   0,  30,   7,  19],\n",
       "       [ 34,   1,  76,  -7,  40],\n",
       "       [ 16,   1,  61, -24,   7],\n",
       "       [ 36,   0,  43,   2,  37],\n",
       "       [ 34,   1,  64, -21,  10],\n",
       "       [ 34,   1,  76, -27,  38],\n",
       "       [ 79,   2,   2,  13,  27],\n",
       "       [ 18,   2,  39,  12,   7],\n",
       "       [ 69,   0,  54,  11,  29],\n",
       "       [ 15,   0,  30,   7,  19],\n",
       "       [ 61,   0,  42,  -7,  34],\n",
       "       [ 48,   1,  55,  15,  19],\n",
       "       [ 34,   2,  44,   6,   6],\n",
       "       [ 34,   2,  59, -29,   8],\n",
       "       [ 44,   2,  10, -34,  37],\n",
       "       [ 15,   0,  30,   7,  19],\n",
       "       [ 66,   1,  78,  -7,  22],\n",
       "       [ 69,   0,  54,  11,  29],\n",
       "       [ 34,   1,  64, -21,  10],\n",
       "       [ 74,   2,  27, -25,  33],\n",
       "       [ 34,   2,  33,  13,  35],\n",
       "       [ 34,   1,   4,   3,   9],\n",
       "       [ 51,   0,  41,   4,  10],\n",
       "       [ 34,   1,   4,   3,   9],\n",
       "       [ 76,   2,  52,  11,  11],\n",
       "       [ 76,   2,  52,  11,  11],\n",
       "       [ 29,   1,  76, -34,   7],\n",
       "       [ 27,   1,  61, -13,  25],\n",
       "       [ 23,   1,  10,  10,  31],\n",
       "       [ 71,   1,  46, -24,  10],\n",
       "       [ 71,   1,  46, -24,  10],\n",
       "       [ 27,   1,  61, -13,  25],\n",
       "       [ 65,   2,  16,   0,  36],\n",
       "       [ 59,   0,  52, -17,  19],\n",
       "       [ 44,   1,  21, -14,  26],\n",
       "       [ 34,   1,  76, -27,  38],\n",
       "       [ 33,   0,   3,  -7,  16],\n",
       "       [ 59,   1,   6,  10,  37],\n",
       "       [ 50,   0,  69, -31,  31],\n",
       "       [ 60,   1,  74, -25,  36],\n",
       "       [ 50,   2,   3, -20,  11],\n",
       "       [ 36,   2,  40,  -2,   7],\n",
       "       [ 51,   2,   5,   3,   7],\n",
       "       [ 65,   0,  27,  -2,  33],\n",
       "       [ 34,   2,  33,  13,  35],\n",
       "       [ 34,   1,  64, -21,  10],\n",
       "       [ 69,   0,  54,  11,  29],\n",
       "       [ 18,   2,  31,  -4,  35],\n",
       "       [ 74,   2,  68,  -4,  39],\n",
       "       [ 34,   0,   2, -23,  33],\n",
       "       [ 59,   0,  27, -27,   6],\n",
       "       [ 34,   0,   2, -23,  33],\n",
       "       [ 44,   2,   6, -21,  34],\n",
       "       [ 34,   1,  76,  -7,  40],\n",
       "       [ 35,   0,  21,   8,  26],\n",
       "       [ 24,   1,  23,  -8,  19],\n",
       "       [ 44,   2,  10, -34,  37],\n",
       "       [ 34,   1,  51,  -4,  35],\n",
       "       [ 34,   2,  73, -32,  27],\n",
       "       [ 74,   2,  68,  -4,  39],\n",
       "       [ 56,   0,  52,   3,  36],\n",
       "       [ 59,   0,  52, -17,  19],\n",
       "       [ 22,   0,  48, -14,  17],\n",
       "       [ 55,   0,  24, -16,  16],\n",
       "       [ 74,   2,  68,  -4,  39],\n",
       "       [ 14,   2,  40, -32,   7],\n",
       "       [ 74,   0,  36, -22,  12],\n",
       "       [ 34,   1,  51,  -4,  35],\n",
       "       [ 59,   0,  27, -27,   6],\n",
       "       [ 27,   1,  61, -13,  25],\n",
       "       [ 73,   1,  11, -26,  27],\n",
       "       [ 16,   2,  68,  10,  26],\n",
       "       [ 74,   0,  36, -22,  12],\n",
       "       [ 24,   1,  23,  -8,  19],\n",
       "       [ 48,   2,  32,   8,  40],\n",
       "       [ 50,   2,  49, -10,  34],\n",
       "       [ 64,   0,  52, -14,  36],\n",
       "       [ 34,   2,  73, -32,  27],\n",
       "       [ 34,   1,  51,  -4,  35],\n",
       "       [ 50,   2,   3, -20,  11],\n",
       "       [ 36,   0,  43,   2,  37],\n",
       "       [ 69,   1,  68, -28,  14],\n",
       "       [ 34,   2,  59, -29,   8],\n",
       "       [ 80,   2,   3,  12,  16],\n",
       "       [ 50,   2,   3, -20,  11],\n",
       "       [ 34,   1,   4,   3,   9],\n",
       "       [ 24,   1,  57,  -8,  24],\n",
       "       [ 52,   0,  35, -18,  13],\n",
       "       [ 34,   0,   2, -23,  33],\n",
       "       [ 44,   2,  10, -34,  37],\n",
       "       [ 63,   2,  69, -11,  30],\n",
       "       [ 18,   2,  39,  12,   7],\n",
       "       [ 34,   2,  73, -32,  27],\n",
       "       [ 80,   0,  16, -14,   7],\n",
       "       [ 52,   2,   8,   3,   7],\n",
       "       [ 76,   2,  52,  11,  11],\n",
       "       [ 48,   2,  32,   8,  40],\n",
       "       [ 59,   1,   6,  10,  37],\n",
       "       [ 80,   0,  16, -14,   7],\n",
       "       [ 61,   0,  67, -30,   9],\n",
       "       [ 59,   0,  52, -17,  19],\n",
       "       [ 34,   2,  42,  -7,  24],\n",
       "       [ 74,   2,  68,  -4,  39],\n",
       "       [ 34,   0,  67, -23,  35],\n",
       "       [ 75,   1,  70, -11,  36],\n",
       "       [ 66,   1,  78,  -7,  22],\n",
       "       [ 34,   1,  76,  -7,  40],\n",
       "       [ 33,   1,  53,  -7,  24],\n",
       "       [ 59,   2,  16,   6,   9],\n",
       "       [ 28,   0,  70, -11,  10],\n",
       "       [ 80,   0,  16, -14,   7],\n",
       "       [ 23,   1,  67,  -8,  12],\n",
       "       [ 71,   1,  46, -24,  10],\n",
       "       [ 22,   0,  48, -14,  17],\n",
       "       [ 15,   0,  30,   7,  19],\n",
       "       [ 65,   1,  68, -13,  12],\n",
       "       [ 80,   0,  16, -14,   7],\n",
       "       [ 29,   2,  11, -25,  38],\n",
       "       [ 32,   1,  42,   8,  34],\n",
       "       [ 71,   1,  46, -24,  10],\n",
       "       [ 43,   2,  12,   6,  17],\n",
       "       [ 51,   0,  69,   1,  20],\n",
       "       [ 48,   2,  32,   8,  40],\n",
       "       [ 34,   1,  73, -34,  13],\n",
       "       [ 34,   0,   4, -20,   7],\n",
       "       [ 34,   0,   4, -20,   7],\n",
       "       [ 22,   0,  48, -14,  17],\n",
       "       [ 22,   1,  13, -22,  39],\n",
       "       [ 48,   1,  55,  15,  19],\n",
       "       [ 69,   2,  29,  15,  15],\n",
       "       [ 74,   0,  36, -22,  12]], dtype=int64)"
      ]
     },
     "execution_count": 15,
     "metadata": {},
     "output_type": "execute_result"
    }
   ],
   "source": [
    "x_train"
   ]
  },
  {
   "cell_type": "code",
   "execution_count": 16,
   "metadata": {},
   "outputs": [
    {
     "data": {
      "text/plain": [
       "array([[ 48,   1,  55,  15,  19],\n",
       "       [ 26,   0,  12,  -8,  17],\n",
       "       [ 61,   1,  17, -11,   9],\n",
       "       [ 80,   1,  73,  14,  35],\n",
       "       [ 34,   2,  33,  13,  35],\n",
       "       [ 50,   0,   5, -31,   7],\n",
       "       [ 34,   1,  76,  -7,  40],\n",
       "       [ 27,   1,  61, -13,  25],\n",
       "       [ 34,   2,  59, -29,   8],\n",
       "       [ 59,   1,   6,  10,  37],\n",
       "       [ 18,   2,  39,  12,   7],\n",
       "       [ 55,   0,  24, -16,  16],\n",
       "       [ 66,   1,  78,  -7,  22],\n",
       "       [ 22,   1,  13, -22,  39],\n",
       "       [ 55,   0,  24, -16,  16],\n",
       "       [ 34,   1,   4,   3,   9],\n",
       "       [ 34,   2,  44,   6,   6],\n",
       "       [ 34,   2,  33,  13,  35],\n",
       "       [ 38,   0,   1, -14,  31],\n",
       "       [ 55,   0,  24, -16,  16],\n",
       "       [ 18,   1,  21, -11,  23]], dtype=int64)"
      ]
     },
     "execution_count": 16,
     "metadata": {},
     "output_type": "execute_result"
    }
   ],
   "source": [
    "x_test"
   ]
  },
  {
   "cell_type": "code",
   "execution_count": 17,
   "metadata": {},
   "outputs": [
    {
     "data": {
      "text/plain": [
       "array([1, 0, 2, 2, 1, 1, 1, 1, 2, 0, 0, 1, 2, 0, 1, 1, 0, 1, 0, 1, 1],\n",
       "      dtype=int64)"
      ]
     },
     "execution_count": 17,
     "metadata": {},
     "output_type": "execute_result"
    }
   ],
   "source": [
    "y_test"
   ]
  },
  {
   "cell_type": "code",
   "execution_count": 18,
   "metadata": {},
   "outputs": [
    {
     "data": {
      "text/plain": [
       "array([[ 48,   1,  55,  15,  19],\n",
       "       [ 26,   0,  12,  -8,  17],\n",
       "       [ 61,   1,  17, -11,   9],\n",
       "       [ 80,   1,  73,  14,  35],\n",
       "       [ 34,   2,  33,  13,  35],\n",
       "       [ 50,   0,   5, -31,   7],\n",
       "       [ 34,   1,  76,  -7,  40],\n",
       "       [ 27,   1,  61, -13,  25],\n",
       "       [ 34,   2,  59, -29,   8],\n",
       "       [ 59,   1,   6,  10,  37],\n",
       "       [ 18,   2,  39,  12,   7],\n",
       "       [ 55,   0,  24, -16,  16],\n",
       "       [ 66,   1,  78,  -7,  22],\n",
       "       [ 22,   1,  13, -22,  39],\n",
       "       [ 55,   0,  24, -16,  16],\n",
       "       [ 34,   1,   4,   3,   9],\n",
       "       [ 34,   2,  44,   6,   6],\n",
       "       [ 34,   2,  33,  13,  35],\n",
       "       [ 38,   0,   1, -14,  31],\n",
       "       [ 55,   0,  24, -16,  16],\n",
       "       [ 18,   1,  21, -11,  23]], dtype=int64)"
      ]
     },
     "execution_count": 18,
     "metadata": {},
     "output_type": "execute_result"
    }
   ],
   "source": [
    "x_test"
   ]
  },
  {
   "cell_type": "code",
   "execution_count": 19,
   "metadata": {},
   "outputs": [
    {
     "data": {
      "text/plain": [
       "array([0, 1, 2, 1, 1, 0, 0, 1, 2, 2, 1, 2, 2, 1, 0, 0, 1, 0, 1, 0, 1, 0,\n",
       "       1, 2, 0, 1, 0, 0, 0, 2, 2, 2, 0, 2, 2, 2, 1, 0, 1, 0, 2, 0, 2, 0,\n",
       "       1, 0, 1, 0, 1, 0, 1, 1, 0, 1, 0, 1, 2, 2, 2, 0, 1, 0, 1, 1, 0, 2,\n",
       "       0, 0, 2, 1, 2, 2, 1, 1, 1, 1, 1, 1, 2, 1, 2, 2, 2, 1, 2, 2, 2, 2,\n",
       "       1, 0, 1, 2, 1, 1, 0, 1, 1, 2, 1, 0, 2, 2, 1, 2, 0, 1, 0, 0, 0, 1,\n",
       "       2, 2, 1, 2, 0, 1, 2, 1, 1, 1, 1, 1, 2, 0, 1, 0, 1, 2, 1, 2, 1, 1,\n",
       "       1, 2, 2, 1, 1, 1, 0, 2, 2, 0, 2, 0, 2, 2, 1, 1, 1, 0, 2, 1, 2, 1,\n",
       "       2, 1, 2, 2, 1, 1, 0, 1, 2, 2, 2, 0, 0, 2, 2, 0, 2, 2, 0, 1, 1, 2,\n",
       "       0, 0, 0, 0, 1, 2, 1], dtype=int64)"
      ]
     },
     "execution_count": 19,
     "metadata": {},
     "output_type": "execute_result"
    }
   ],
   "source": [
    "y_train"
   ]
  },
  {
   "cell_type": "raw",
   "metadata": {},
   "source": [
    "step 7 : feature scaling"
   ]
  },
  {
   "cell_type": "code",
   "execution_count": 20,
   "metadata": {},
   "outputs": [
    {
     "data": {
      "text/plain": [
       "array([[ 16,   2,  68,  10,  26],\n",
       "       [ 69,   0,  54,  11,  29],\n",
       "       [ 34,   1,  76, -27,  38],\n",
       "       [ 54,   1,  21,   0,  23],\n",
       "       [ 59,   0,  27, -27,   6],\n",
       "       [ 22,   0,  48, -14,  17],\n",
       "       [ 18,   2,  39,  12,   7],\n",
       "       [ 33,   1,  53,  -7,  24],\n",
       "       [ 51,   2,  69,  11,  31],\n",
       "       [ 34,   2,  59, -29,   8],\n",
       "       [ 76,   2,  52,  11,  11],\n",
       "       [ 75,   1,  70, -11,  36],\n",
       "       [ 50,   2,  49, -10,  34],\n",
       "       [ 12,   1,   5, -11,  14],\n",
       "       [ 17,   2,  15,  -2,  36],\n",
       "       [ 22,   1,  13, -22,  39],\n",
       "       [ 19,   1,  66,  12,  37],\n",
       "       [ 34,   0,   4, -20,   7],\n",
       "       [ 51,   0,  41,   4,  10],\n",
       "       [ 34,   0,   4, -20,   7],\n",
       "       [ 36,   0,  43,   2,  37],\n",
       "       [ 20,   0,   5, -32,  37],\n",
       "       [ 21,   2,  70, -27,   8],\n",
       "       [ 34,   1,  73, -34,  13],\n",
       "       [ 22,   1,  13, -22,  39],\n",
       "       [ 34,   1,  51,  -4,  35],\n",
       "       [ 34,   2,  44,   6,   6],\n",
       "       [ 12,   0,  29,  12,  15],\n",
       "       [ 44,   2,  10, -34,  37],\n",
       "       [ 62,   1,  46,  -8,  13],\n",
       "       [ 66,   1,  78,  -7,  22],\n",
       "       [ 34,   2,  73, -32,  27],\n",
       "       [ 20,   0,   5, -32,  37],\n",
       "       [ 75,   1,  70, -11,  36],\n",
       "       [ 34,   1,  73, -34,  13],\n",
       "       [ 60,   2,  58,  15,   9],\n",
       "       [ 53,   1,  12,   9,  16],\n",
       "       [ 29,   2,  11, -25,  38],\n",
       "       [ 24,   1,  42,   8,  24],\n",
       "       [ 16,   1,  61, -24,   7],\n",
       "       [ 34,   1,  73, -34,  13],\n",
       "       [ 24,   1,  23,  -8,  19],\n",
       "       [ 45,   1,  74,  15,  36],\n",
       "       [ 29,   2,  11, -25,  38],\n",
       "       [ 74,   0,  36, -22,  12],\n",
       "       [ 34,   2,  44,   6,   6],\n",
       "       [ 50,   0,  69, -31,  31],\n",
       "       [ 38,   0,   1, -14,  31],\n",
       "       [ 33,   1,  10,   6,  31],\n",
       "       [ 59,   1,   6,  10,  37],\n",
       "       [ 50,   2,   3, -20,  11],\n",
       "       [ 20,   2,  16, -24,  36],\n",
       "       [ 15,   0,  30,   7,  19],\n",
       "       [ 34,   1,  76,  -7,  40],\n",
       "       [ 16,   1,  61, -24,   7],\n",
       "       [ 36,   0,  43,   2,  37],\n",
       "       [ 34,   1,  64, -21,  10],\n",
       "       [ 34,   1,  76, -27,  38],\n",
       "       [ 79,   2,   2,  13,  27],\n",
       "       [ 18,   2,  39,  12,   7],\n",
       "       [ 69,   0,  54,  11,  29],\n",
       "       [ 15,   0,  30,   7,  19],\n",
       "       [ 61,   0,  42,  -7,  34],\n",
       "       [ 48,   1,  55,  15,  19],\n",
       "       [ 34,   2,  44,   6,   6],\n",
       "       [ 34,   2,  59, -29,   8],\n",
       "       [ 44,   2,  10, -34,  37],\n",
       "       [ 15,   0,  30,   7,  19],\n",
       "       [ 66,   1,  78,  -7,  22],\n",
       "       [ 69,   0,  54,  11,  29],\n",
       "       [ 34,   1,  64, -21,  10],\n",
       "       [ 74,   2,  27, -25,  33],\n",
       "       [ 34,   2,  33,  13,  35],\n",
       "       [ 34,   1,   4,   3,   9],\n",
       "       [ 51,   0,  41,   4,  10],\n",
       "       [ 34,   1,   4,   3,   9],\n",
       "       [ 76,   2,  52,  11,  11],\n",
       "       [ 76,   2,  52,  11,  11],\n",
       "       [ 29,   1,  76, -34,   7],\n",
       "       [ 27,   1,  61, -13,  25],\n",
       "       [ 23,   1,  10,  10,  31],\n",
       "       [ 71,   1,  46, -24,  10],\n",
       "       [ 71,   1,  46, -24,  10],\n",
       "       [ 27,   1,  61, -13,  25],\n",
       "       [ 65,   2,  16,   0,  36],\n",
       "       [ 59,   0,  52, -17,  19],\n",
       "       [ 44,   1,  21, -14,  26],\n",
       "       [ 34,   1,  76, -27,  38],\n",
       "       [ 33,   0,   3,  -7,  16],\n",
       "       [ 59,   1,   6,  10,  37],\n",
       "       [ 50,   0,  69, -31,  31],\n",
       "       [ 60,   1,  74, -25,  36],\n",
       "       [ 50,   2,   3, -20,  11],\n",
       "       [ 36,   2,  40,  -2,   7],\n",
       "       [ 51,   2,   5,   3,   7],\n",
       "       [ 65,   0,  27,  -2,  33],\n",
       "       [ 34,   2,  33,  13,  35],\n",
       "       [ 34,   1,  64, -21,  10],\n",
       "       [ 69,   0,  54,  11,  29],\n",
       "       [ 18,   2,  31,  -4,  35],\n",
       "       [ 74,   2,  68,  -4,  39],\n",
       "       [ 34,   0,   2, -23,  33],\n",
       "       [ 59,   0,  27, -27,   6],\n",
       "       [ 34,   0,   2, -23,  33],\n",
       "       [ 44,   2,   6, -21,  34],\n",
       "       [ 34,   1,  76,  -7,  40],\n",
       "       [ 35,   0,  21,   8,  26],\n",
       "       [ 24,   1,  23,  -8,  19],\n",
       "       [ 44,   2,  10, -34,  37],\n",
       "       [ 34,   1,  51,  -4,  35],\n",
       "       [ 34,   2,  73, -32,  27],\n",
       "       [ 74,   2,  68,  -4,  39],\n",
       "       [ 56,   0,  52,   3,  36],\n",
       "       [ 59,   0,  52, -17,  19],\n",
       "       [ 22,   0,  48, -14,  17],\n",
       "       [ 55,   0,  24, -16,  16],\n",
       "       [ 74,   2,  68,  -4,  39],\n",
       "       [ 14,   2,  40, -32,   7],\n",
       "       [ 74,   0,  36, -22,  12],\n",
       "       [ 34,   1,  51,  -4,  35],\n",
       "       [ 59,   0,  27, -27,   6],\n",
       "       [ 27,   1,  61, -13,  25],\n",
       "       [ 73,   1,  11, -26,  27],\n",
       "       [ 16,   2,  68,  10,  26],\n",
       "       [ 74,   0,  36, -22,  12],\n",
       "       [ 24,   1,  23,  -8,  19],\n",
       "       [ 48,   2,  32,   8,  40],\n",
       "       [ 50,   2,  49, -10,  34],\n",
       "       [ 64,   0,  52, -14,  36],\n",
       "       [ 34,   2,  73, -32,  27],\n",
       "       [ 34,   1,  51,  -4,  35],\n",
       "       [ 50,   2,   3, -20,  11],\n",
       "       [ 36,   0,  43,   2,  37],\n",
       "       [ 69,   1,  68, -28,  14],\n",
       "       [ 34,   2,  59, -29,   8],\n",
       "       [ 80,   2,   3,  12,  16],\n",
       "       [ 50,   2,   3, -20,  11],\n",
       "       [ 34,   1,   4,   3,   9],\n",
       "       [ 24,   1,  57,  -8,  24],\n",
       "       [ 52,   0,  35, -18,  13],\n",
       "       [ 34,   0,   2, -23,  33],\n",
       "       [ 44,   2,  10, -34,  37],\n",
       "       [ 63,   2,  69, -11,  30],\n",
       "       [ 18,   2,  39,  12,   7],\n",
       "       [ 34,   2,  73, -32,  27],\n",
       "       [ 80,   0,  16, -14,   7],\n",
       "       [ 52,   2,   8,   3,   7],\n",
       "       [ 76,   2,  52,  11,  11],\n",
       "       [ 48,   2,  32,   8,  40],\n",
       "       [ 59,   1,   6,  10,  37],\n",
       "       [ 80,   0,  16, -14,   7],\n",
       "       [ 61,   0,  67, -30,   9],\n",
       "       [ 59,   0,  52, -17,  19],\n",
       "       [ 34,   2,  42,  -7,  24],\n",
       "       [ 74,   2,  68,  -4,  39],\n",
       "       [ 34,   0,  67, -23,  35],\n",
       "       [ 75,   1,  70, -11,  36],\n",
       "       [ 66,   1,  78,  -7,  22],\n",
       "       [ 34,   1,  76,  -7,  40],\n",
       "       [ 33,   1,  53,  -7,  24],\n",
       "       [ 59,   2,  16,   6,   9],\n",
       "       [ 28,   0,  70, -11,  10],\n",
       "       [ 80,   0,  16, -14,   7],\n",
       "       [ 23,   1,  67,  -8,  12],\n",
       "       [ 71,   1,  46, -24,  10],\n",
       "       [ 22,   0,  48, -14,  17],\n",
       "       [ 15,   0,  30,   7,  19],\n",
       "       [ 65,   1,  68, -13,  12],\n",
       "       [ 80,   0,  16, -14,   7],\n",
       "       [ 29,   2,  11, -25,  38],\n",
       "       [ 32,   1,  42,   8,  34],\n",
       "       [ 71,   1,  46, -24,  10],\n",
       "       [ 43,   2,  12,   6,  17],\n",
       "       [ 51,   0,  69,   1,  20],\n",
       "       [ 48,   2,  32,   8,  40],\n",
       "       [ 34,   1,  73, -34,  13],\n",
       "       [ 34,   0,   4, -20,   7],\n",
       "       [ 34,   0,   4, -20,   7],\n",
       "       [ 22,   0,  48, -14,  17],\n",
       "       [ 22,   1,  13, -22,  39],\n",
       "       [ 48,   1,  55,  15,  19],\n",
       "       [ 69,   2,  29,  15,  15],\n",
       "       [ 74,   0,  36, -22,  12]], dtype=int64)"
      ]
     },
     "execution_count": 20,
     "metadata": {},
     "output_type": "execute_result"
    }
   ],
   "source": [
    "x_train"
   ]
  },
  {
   "cell_type": "code",
   "execution_count": 21,
   "metadata": {},
   "outputs": [],
   "source": [
    "from sklearn.ensemble import RandomForestClassifier\n",
    "\n",
    "\n",
    "clf=RandomForestClassifier(n_estimators=1500)\n",
    "\n",
    "\n",
    "clf.fit(x_train,y_train)\n",
    "\n",
    "y_pred=clf.predict(x_test)\n",
    "\n",
    "\n"
   ]
  },
  {
   "cell_type": "code",
   "execution_count": 22,
   "metadata": {},
   "outputs": [
    {
     "data": {
      "text/html": [
       "<div>\n",
       "<style scoped>\n",
       "    .dataframe tbody tr th:only-of-type {\n",
       "        vertical-align: middle;\n",
       "    }\n",
       "\n",
       "    .dataframe tbody tr th {\n",
       "        vertical-align: top;\n",
       "    }\n",
       "\n",
       "    .dataframe thead th {\n",
       "        text-align: right;\n",
       "    }\n",
       "</style>\n",
       "<table border=\"1\" class=\"dataframe\">\n",
       "  <thead>\n",
       "    <tr style=\"text-align: right;\">\n",
       "      <th></th>\n",
       "      <th>Slope</th>\n",
       "      <th>Forest Density</th>\n",
       "      <th>Snow Density</th>\n",
       "      <th>Air Temperature</th>\n",
       "      <th>Wind</th>\n",
       "      <th>Prediction</th>\n",
       "    </tr>\n",
       "  </thead>\n",
       "  <tbody>\n",
       "    <tr>\n",
       "      <th>0</th>\n",
       "      <td>59</td>\n",
       "      <td>0</td>\n",
       "      <td>52</td>\n",
       "      <td>-17</td>\n",
       "      <td>19</td>\n",
       "      <td>2</td>\n",
       "    </tr>\n",
       "    <tr>\n",
       "      <th>1</th>\n",
       "      <td>24</td>\n",
       "      <td>1</td>\n",
       "      <td>23</td>\n",
       "      <td>-8</td>\n",
       "      <td>19</td>\n",
       "      <td>0</td>\n",
       "    </tr>\n",
       "    <tr>\n",
       "      <th>2</th>\n",
       "      <td>15</td>\n",
       "      <td>0</td>\n",
       "      <td>30</td>\n",
       "      <td>7</td>\n",
       "      <td>19</td>\n",
       "      <td>0</td>\n",
       "    </tr>\n",
       "    <tr>\n",
       "      <th>3</th>\n",
       "      <td>27</td>\n",
       "      <td>1</td>\n",
       "      <td>61</td>\n",
       "      <td>-13</td>\n",
       "      <td>25</td>\n",
       "      <td>1</td>\n",
       "    </tr>\n",
       "    <tr>\n",
       "      <th>4</th>\n",
       "      <td>34</td>\n",
       "      <td>0</td>\n",
       "      <td>4</td>\n",
       "      <td>-20</td>\n",
       "      <td>7</td>\n",
       "      <td>0</td>\n",
       "    </tr>\n",
       "    <tr>\n",
       "      <th>...</th>\n",
       "      <td>...</td>\n",
       "      <td>...</td>\n",
       "      <td>...</td>\n",
       "      <td>...</td>\n",
       "      <td>...</td>\n",
       "      <td>...</td>\n",
       "    </tr>\n",
       "    <tr>\n",
       "      <th>199</th>\n",
       "      <td>34</td>\n",
       "      <td>2</td>\n",
       "      <td>44</td>\n",
       "      <td>6</td>\n",
       "      <td>6</td>\n",
       "      <td>0</td>\n",
       "    </tr>\n",
       "    <tr>\n",
       "      <th>200</th>\n",
       "      <td>34</td>\n",
       "      <td>1</td>\n",
       "      <td>73</td>\n",
       "      <td>-34</td>\n",
       "      <td>13</td>\n",
       "      <td>2</td>\n",
       "    </tr>\n",
       "    <tr>\n",
       "      <th>201</th>\n",
       "      <td>34</td>\n",
       "      <td>2</td>\n",
       "      <td>33</td>\n",
       "      <td>13</td>\n",
       "      <td>35</td>\n",
       "      <td>1</td>\n",
       "    </tr>\n",
       "    <tr>\n",
       "      <th>202</th>\n",
       "      <td>34</td>\n",
       "      <td>1</td>\n",
       "      <td>51</td>\n",
       "      <td>-4</td>\n",
       "      <td>35</td>\n",
       "      <td>1</td>\n",
       "    </tr>\n",
       "    <tr>\n",
       "      <th>203</th>\n",
       "      <td>34</td>\n",
       "      <td>2</td>\n",
       "      <td>59</td>\n",
       "      <td>-29</td>\n",
       "      <td>8</td>\n",
       "      <td>2</td>\n",
       "    </tr>\n",
       "  </tbody>\n",
       "</table>\n",
       "<p>204 rows × 6 columns</p>\n",
       "</div>"
      ],
      "text/plain": [
       "     Slope  Forest Density  Snow Density  Air Temperature  Wind  Prediction\n",
       "0       59               0            52              -17    19           2\n",
       "1       24               1            23               -8    19           0\n",
       "2       15               0            30                7    19           0\n",
       "3       27               1            61              -13    25           1\n",
       "4       34               0             4              -20     7           0\n",
       "..     ...             ...           ...              ...   ...         ...\n",
       "199     34               2            44                6     6           0\n",
       "200     34               1            73              -34    13           2\n",
       "201     34               2            33               13    35           1\n",
       "202     34               1            51               -4    35           1\n",
       "203     34               2            59              -29     8           2\n",
       "\n",
       "[204 rows x 6 columns]"
      ]
     },
     "execution_count": 22,
     "metadata": {},
     "output_type": "execute_result"
    }
   ],
   "source": [
    "dataset\n",
    "\n"
   ]
  },
  {
   "cell_type": "code",
   "execution_count": 23,
   "metadata": {},
   "outputs": [
    {
     "name": "stdout",
     "output_type": "stream",
     "text": [
      "accuracy: 0.9523809523809523\n"
     ]
    }
   ],
   "source": [
    "from sklearn import metrics\n",
    "print(\"accuracy:\",metrics.accuracy_score(y_test, y_pred))"
   ]
  },
  {
   "cell_type": "code",
   "execution_count": 24,
   "metadata": {},
   "outputs": [
    {
     "data": {
      "text/plain": [
       "['Random1.save']"
      ]
     },
     "execution_count": 24,
     "metadata": {},
     "output_type": "execute_result"
    }
   ],
   "source": [
    "from joblib import dump\n",
    "dump(clf,\"Random1.save\")"
   ]
  },
  {
   "cell_type": "code",
   "execution_count": 25,
   "metadata": {},
   "outputs": [
    {
     "data": {
      "text/plain": [
       "array([[ 16,   2,  68,  10,  26],\n",
       "       [ 69,   0,  54,  11,  29],\n",
       "       [ 34,   1,  76, -27,  38],\n",
       "       [ 54,   1,  21,   0,  23],\n",
       "       [ 59,   0,  27, -27,   6],\n",
       "       [ 22,   0,  48, -14,  17],\n",
       "       [ 18,   2,  39,  12,   7],\n",
       "       [ 33,   1,  53,  -7,  24],\n",
       "       [ 51,   2,  69,  11,  31],\n",
       "       [ 34,   2,  59, -29,   8],\n",
       "       [ 76,   2,  52,  11,  11],\n",
       "       [ 75,   1,  70, -11,  36],\n",
       "       [ 50,   2,  49, -10,  34],\n",
       "       [ 12,   1,   5, -11,  14],\n",
       "       [ 17,   2,  15,  -2,  36],\n",
       "       [ 22,   1,  13, -22,  39],\n",
       "       [ 19,   1,  66,  12,  37],\n",
       "       [ 34,   0,   4, -20,   7],\n",
       "       [ 51,   0,  41,   4,  10],\n",
       "       [ 34,   0,   4, -20,   7],\n",
       "       [ 36,   0,  43,   2,  37],\n",
       "       [ 20,   0,   5, -32,  37],\n",
       "       [ 21,   2,  70, -27,   8],\n",
       "       [ 34,   1,  73, -34,  13],\n",
       "       [ 22,   1,  13, -22,  39],\n",
       "       [ 34,   1,  51,  -4,  35],\n",
       "       [ 34,   2,  44,   6,   6],\n",
       "       [ 12,   0,  29,  12,  15],\n",
       "       [ 44,   2,  10, -34,  37],\n",
       "       [ 62,   1,  46,  -8,  13],\n",
       "       [ 66,   1,  78,  -7,  22],\n",
       "       [ 34,   2,  73, -32,  27],\n",
       "       [ 20,   0,   5, -32,  37],\n",
       "       [ 75,   1,  70, -11,  36],\n",
       "       [ 34,   1,  73, -34,  13],\n",
       "       [ 60,   2,  58,  15,   9],\n",
       "       [ 53,   1,  12,   9,  16],\n",
       "       [ 29,   2,  11, -25,  38],\n",
       "       [ 24,   1,  42,   8,  24],\n",
       "       [ 16,   1,  61, -24,   7],\n",
       "       [ 34,   1,  73, -34,  13],\n",
       "       [ 24,   1,  23,  -8,  19],\n",
       "       [ 45,   1,  74,  15,  36],\n",
       "       [ 29,   2,  11, -25,  38],\n",
       "       [ 74,   0,  36, -22,  12],\n",
       "       [ 34,   2,  44,   6,   6],\n",
       "       [ 50,   0,  69, -31,  31],\n",
       "       [ 38,   0,   1, -14,  31],\n",
       "       [ 33,   1,  10,   6,  31],\n",
       "       [ 59,   1,   6,  10,  37],\n",
       "       [ 50,   2,   3, -20,  11],\n",
       "       [ 20,   2,  16, -24,  36],\n",
       "       [ 15,   0,  30,   7,  19],\n",
       "       [ 34,   1,  76,  -7,  40],\n",
       "       [ 16,   1,  61, -24,   7],\n",
       "       [ 36,   0,  43,   2,  37],\n",
       "       [ 34,   1,  64, -21,  10],\n",
       "       [ 34,   1,  76, -27,  38],\n",
       "       [ 79,   2,   2,  13,  27],\n",
       "       [ 18,   2,  39,  12,   7],\n",
       "       [ 69,   0,  54,  11,  29],\n",
       "       [ 15,   0,  30,   7,  19],\n",
       "       [ 61,   0,  42,  -7,  34],\n",
       "       [ 48,   1,  55,  15,  19],\n",
       "       [ 34,   2,  44,   6,   6],\n",
       "       [ 34,   2,  59, -29,   8],\n",
       "       [ 44,   2,  10, -34,  37],\n",
       "       [ 15,   0,  30,   7,  19],\n",
       "       [ 66,   1,  78,  -7,  22],\n",
       "       [ 69,   0,  54,  11,  29],\n",
       "       [ 34,   1,  64, -21,  10],\n",
       "       [ 74,   2,  27, -25,  33],\n",
       "       [ 34,   2,  33,  13,  35],\n",
       "       [ 34,   1,   4,   3,   9],\n",
       "       [ 51,   0,  41,   4,  10],\n",
       "       [ 34,   1,   4,   3,   9],\n",
       "       [ 76,   2,  52,  11,  11],\n",
       "       [ 76,   2,  52,  11,  11],\n",
       "       [ 29,   1,  76, -34,   7],\n",
       "       [ 27,   1,  61, -13,  25],\n",
       "       [ 23,   1,  10,  10,  31],\n",
       "       [ 71,   1,  46, -24,  10],\n",
       "       [ 71,   1,  46, -24,  10],\n",
       "       [ 27,   1,  61, -13,  25],\n",
       "       [ 65,   2,  16,   0,  36],\n",
       "       [ 59,   0,  52, -17,  19],\n",
       "       [ 44,   1,  21, -14,  26],\n",
       "       [ 34,   1,  76, -27,  38],\n",
       "       [ 33,   0,   3,  -7,  16],\n",
       "       [ 59,   1,   6,  10,  37],\n",
       "       [ 50,   0,  69, -31,  31],\n",
       "       [ 60,   1,  74, -25,  36],\n",
       "       [ 50,   2,   3, -20,  11],\n",
       "       [ 36,   2,  40,  -2,   7],\n",
       "       [ 51,   2,   5,   3,   7],\n",
       "       [ 65,   0,  27,  -2,  33],\n",
       "       [ 34,   2,  33,  13,  35],\n",
       "       [ 34,   1,  64, -21,  10],\n",
       "       [ 69,   0,  54,  11,  29],\n",
       "       [ 18,   2,  31,  -4,  35],\n",
       "       [ 74,   2,  68,  -4,  39],\n",
       "       [ 34,   0,   2, -23,  33],\n",
       "       [ 59,   0,  27, -27,   6],\n",
       "       [ 34,   0,   2, -23,  33],\n",
       "       [ 44,   2,   6, -21,  34],\n",
       "       [ 34,   1,  76,  -7,  40],\n",
       "       [ 35,   0,  21,   8,  26],\n",
       "       [ 24,   1,  23,  -8,  19],\n",
       "       [ 44,   2,  10, -34,  37],\n",
       "       [ 34,   1,  51,  -4,  35],\n",
       "       [ 34,   2,  73, -32,  27],\n",
       "       [ 74,   2,  68,  -4,  39],\n",
       "       [ 56,   0,  52,   3,  36],\n",
       "       [ 59,   0,  52, -17,  19],\n",
       "       [ 22,   0,  48, -14,  17],\n",
       "       [ 55,   0,  24, -16,  16],\n",
       "       [ 74,   2,  68,  -4,  39],\n",
       "       [ 14,   2,  40, -32,   7],\n",
       "       [ 74,   0,  36, -22,  12],\n",
       "       [ 34,   1,  51,  -4,  35],\n",
       "       [ 59,   0,  27, -27,   6],\n",
       "       [ 27,   1,  61, -13,  25],\n",
       "       [ 73,   1,  11, -26,  27],\n",
       "       [ 16,   2,  68,  10,  26],\n",
       "       [ 74,   0,  36, -22,  12],\n",
       "       [ 24,   1,  23,  -8,  19],\n",
       "       [ 48,   2,  32,   8,  40],\n",
       "       [ 50,   2,  49, -10,  34],\n",
       "       [ 64,   0,  52, -14,  36],\n",
       "       [ 34,   2,  73, -32,  27],\n",
       "       [ 34,   1,  51,  -4,  35],\n",
       "       [ 50,   2,   3, -20,  11],\n",
       "       [ 36,   0,  43,   2,  37],\n",
       "       [ 69,   1,  68, -28,  14],\n",
       "       [ 34,   2,  59, -29,   8],\n",
       "       [ 80,   2,   3,  12,  16],\n",
       "       [ 50,   2,   3, -20,  11],\n",
       "       [ 34,   1,   4,   3,   9],\n",
       "       [ 24,   1,  57,  -8,  24],\n",
       "       [ 52,   0,  35, -18,  13],\n",
       "       [ 34,   0,   2, -23,  33],\n",
       "       [ 44,   2,  10, -34,  37],\n",
       "       [ 63,   2,  69, -11,  30],\n",
       "       [ 18,   2,  39,  12,   7],\n",
       "       [ 34,   2,  73, -32,  27],\n",
       "       [ 80,   0,  16, -14,   7],\n",
       "       [ 52,   2,   8,   3,   7],\n",
       "       [ 76,   2,  52,  11,  11],\n",
       "       [ 48,   2,  32,   8,  40],\n",
       "       [ 59,   1,   6,  10,  37],\n",
       "       [ 80,   0,  16, -14,   7],\n",
       "       [ 61,   0,  67, -30,   9],\n",
       "       [ 59,   0,  52, -17,  19],\n",
       "       [ 34,   2,  42,  -7,  24],\n",
       "       [ 74,   2,  68,  -4,  39],\n",
       "       [ 34,   0,  67, -23,  35],\n",
       "       [ 75,   1,  70, -11,  36],\n",
       "       [ 66,   1,  78,  -7,  22],\n",
       "       [ 34,   1,  76,  -7,  40],\n",
       "       [ 33,   1,  53,  -7,  24],\n",
       "       [ 59,   2,  16,   6,   9],\n",
       "       [ 28,   0,  70, -11,  10],\n",
       "       [ 80,   0,  16, -14,   7],\n",
       "       [ 23,   1,  67,  -8,  12],\n",
       "       [ 71,   1,  46, -24,  10],\n",
       "       [ 22,   0,  48, -14,  17],\n",
       "       [ 15,   0,  30,   7,  19],\n",
       "       [ 65,   1,  68, -13,  12],\n",
       "       [ 80,   0,  16, -14,   7],\n",
       "       [ 29,   2,  11, -25,  38],\n",
       "       [ 32,   1,  42,   8,  34],\n",
       "       [ 71,   1,  46, -24,  10],\n",
       "       [ 43,   2,  12,   6,  17],\n",
       "       [ 51,   0,  69,   1,  20],\n",
       "       [ 48,   2,  32,   8,  40],\n",
       "       [ 34,   1,  73, -34,  13],\n",
       "       [ 34,   0,   4, -20,   7],\n",
       "       [ 34,   0,   4, -20,   7],\n",
       "       [ 22,   0,  48, -14,  17],\n",
       "       [ 22,   1,  13, -22,  39],\n",
       "       [ 48,   1,  55,  15,  19],\n",
       "       [ 69,   2,  29,  15,  15],\n",
       "       [ 74,   0,  36, -22,  12]], dtype=int64)"
      ]
     },
     "execution_count": 25,
     "metadata": {},
     "output_type": "execute_result"
    }
   ],
   "source": [
    "x_train"
   ]
  },
  {
   "cell_type": "code",
   "execution_count": 29,
   "metadata": {},
   "outputs": [
    {
     "data": {
      "text/plain": [
       "array([1], dtype=int64)"
      ]
     },
     "execution_count": 29,
     "metadata": {},
     "output_type": "execute_result"
    }
   ],
   "source": [
    "clf.predict([[34,1,51,-4,35]])"
   ]
  },
  {
   "cell_type": "code",
   "execution_count": 28,
   "metadata": {},
   "outputs": [
    {
     "data": {
      "text/plain": [
       "array([0, 1, 2, 1, 1, 0, 0, 1, 2, 2, 1, 2, 2, 1, 0, 0, 1, 0, 1, 0, 1, 0,\n",
       "       1, 2, 0, 1, 0, 0, 0, 2, 2, 2, 0, 2, 2, 2, 1, 0, 1, 0, 2, 0, 2, 0,\n",
       "       1, 0, 1, 0, 1, 0, 1, 1, 0, 1, 0, 1, 2, 2, 2, 0, 1, 0, 1, 1, 0, 2,\n",
       "       0, 0, 2, 1, 2, 2, 1, 1, 1, 1, 1, 1, 2, 1, 2, 2, 2, 1, 2, 2, 2, 2,\n",
       "       1, 0, 1, 2, 1, 1, 0, 1, 1, 2, 1, 0, 2, 2, 1, 2, 0, 1, 0, 0, 0, 1,\n",
       "       2, 2, 1, 2, 0, 1, 2, 1, 1, 1, 1, 1, 2, 0, 1, 0, 1, 2, 1, 2, 1, 1,\n",
       "       1, 2, 2, 1, 1, 1, 0, 2, 2, 0, 2, 0, 2, 2, 1, 1, 1, 0, 2, 1, 2, 1,\n",
       "       2, 1, 2, 2, 1, 1, 0, 1, 2, 2, 2, 0, 0, 2, 2, 0, 2, 2, 0, 1, 1, 2,\n",
       "       0, 0, 0, 0, 1, 2, 1], dtype=int64)"
      ]
     },
     "execution_count": 28,
     "metadata": {},
     "output_type": "execute_result"
    }
   ],
   "source": [
    "y_train"
   ]
  },
  {
   "cell_type": "code",
   "execution_count": null,
   "metadata": {},
   "outputs": [],
   "source": []
  }
 ],
 "metadata": {
  "kernelspec": {
   "display_name": "Python 3",
   "language": "python",
   "name": "python3"
  },
  "language_info": {
   "codemirror_mode": {
    "name": "ipython",
    "version": 3
   },
   "file_extension": ".py",
   "mimetype": "text/x-python",
   "name": "python",
   "nbconvert_exporter": "python",
   "pygments_lexer": "ipython3",
   "version": "3.7.6"
  }
 },
 "nbformat": 4,
 "nbformat_minor": 4
}
